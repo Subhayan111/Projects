{
 "cells": [
  {
   "cell_type": "code",
   "execution_count": 3,
   "id": "0316f45c-ceca-4671-a541-2103804d5f08",
   "metadata": {},
   "outputs": [
    {
     "name": "stdout",
     "output_type": "stream",
     "text": [
      "Welcome to Tic-Tac-Toe!\n",
      " | | \n",
      "-----\n",
      " | | \n",
      "-----\n",
      " | | \n"
     ]
    },
    {
     "name": "stdin",
     "output_type": "stream",
     "text": [
      "Enter your move (1-9):  2\n"
     ]
    },
    {
     "name": "stdout",
     "output_type": "stream",
     "text": [
      " |O| \n",
      "-----\n",
      " | | \n",
      "-----\n",
      " | | \n",
      "AI's turn...\n",
      "X|O| \n",
      "-----\n",
      " | | \n",
      "-----\n",
      " | | \n"
     ]
    },
    {
     "name": "stdin",
     "output_type": "stream",
     "text": [
      "Enter your move (1-9):  5\n"
     ]
    },
    {
     "name": "stdout",
     "output_type": "stream",
     "text": [
      "X|O| \n",
      "-----\n",
      " |O| \n",
      "-----\n",
      " | | \n",
      "AI's turn...\n",
      "X|O| \n",
      "-----\n",
      " |O| \n",
      "-----\n",
      " |X| \n"
     ]
    },
    {
     "name": "stdin",
     "output_type": "stream",
     "text": [
      "Enter your move (1-9):  4\n"
     ]
    },
    {
     "name": "stdout",
     "output_type": "stream",
     "text": [
      "X|O| \n",
      "-----\n",
      "O|O| \n",
      "-----\n",
      " |X| \n",
      "AI's turn...\n",
      "X|O| \n",
      "-----\n",
      "O|O|X\n",
      "-----\n",
      " |X| \n"
     ]
    },
    {
     "name": "stdin",
     "output_type": "stream",
     "text": [
      "Enter your move (1-9):  7\n"
     ]
    },
    {
     "name": "stdout",
     "output_type": "stream",
     "text": [
      "X|O| \n",
      "-----\n",
      "O|O|X\n",
      "-----\n",
      "O|X| \n",
      "AI's turn...\n",
      "X|O|X\n",
      "-----\n",
      "O|O|X\n",
      "-----\n",
      "O|X| \n"
     ]
    },
    {
     "name": "stdin",
     "output_type": "stream",
     "text": [
      "Enter your move (1-9):  9\n"
     ]
    },
    {
     "name": "stdout",
     "output_type": "stream",
     "text": [
      "X|O|X\n",
      "-----\n",
      "O|O|X\n",
      "-----\n",
      "O|X|O\n",
      "It's a draw!\n"
     ]
    }
   ],
   "source": [
    "# Tic-Tac-Toe AI\n",
    "import math\n",
    "\n",
    "# Constants\n",
    "HUMAN = 'O'\n",
    "AI = 'X'\n",
    "EMPTY = ' '\n",
    "\n",
    "# Initialize the board\n",
    "def initialize_board():\n",
    "    return [EMPTY] * 9\n",
    "\n",
    "# Print the board\n",
    "def print_board(board):\n",
    "    for i in range(3):\n",
    "        print(board[3 * i] + '|' + board[3 * i + 1] + '|' + board[3 * i + 2])\n",
    "        if i < 2:\n",
    "            print('-----')\n",
    "\n",
    "# Check for a win\n",
    "def check_winner(board, player):\n",
    "    win_positions = [\n",
    "        [0, 1, 2], [3, 4, 5], [6, 7, 8],  # Rows\n",
    "        [0, 3, 6], [1, 4, 7], [2, 5, 8],  # Columns\n",
    "        [0, 4, 8], [2, 4, 6]  # Diagonals\n",
    "    ]\n",
    "    for pos in win_positions:\n",
    "        if board[pos[0]] == board[pos[1]] == board[pos[2]] == player:\n",
    "            return True\n",
    "    return False\n",
    "\n",
    "# Check for a draw\n",
    "def is_draw(board):\n",
    "    return EMPTY not in board\n",
    "\n",
    "# Get available moves\n",
    "def get_available_moves(board):\n",
    "    return [i for i, x in enumerate(board) if x == EMPTY]\n",
    "\n",
    "# Minimax algorithm with Alpha-Beta Pruning\n",
    "def minimax(board, depth, is_maximizing, alpha, beta):\n",
    "    if check_winner(board, AI):\n",
    "        return 1\n",
    "    if check_winner(board, HUMAN):\n",
    "        return -1\n",
    "    if is_draw(board):\n",
    "        return 0\n",
    "\n",
    "    if is_maximizing:\n",
    "        max_eval = -math.inf\n",
    "        for move in get_available_moves(board):\n",
    "            board[move] = AI\n",
    "            eval = minimax(board, depth + 1, False, alpha, beta)\n",
    "            board[move] = EMPTY\n",
    "            max_eval = max(max_eval, eval)\n",
    "            alpha = max(alpha, eval)\n",
    "            if beta <= alpha:\n",
    "                break\n",
    "        return max_eval\n",
    "    else:\n",
    "        min_eval = math.inf\n",
    "        for move in get_available_moves(board):\n",
    "            board[move] = HUMAN\n",
    "            eval = minimax(board, depth + 1, True, alpha, beta)\n",
    "            board[move] = EMPTY\n",
    "            min_eval = min(min_eval, eval)\n",
    "            beta = min(beta, eval)\n",
    "            if beta <= alpha:\n",
    "                break\n",
    "        return min_eval\n",
    "\n",
    "# AI move\n",
    "def ai_move(board):\n",
    "    best_score = -math.inf\n",
    "    best_move = None\n",
    "    for move in get_available_moves(board):\n",
    "        board[move] = AI\n",
    "        score = minimax(board, 0, False, -math.inf, math.inf)\n",
    "        board[move] = EMPTY\n",
    "        if score > best_score:\n",
    "            best_score = score\n",
    "            best_move = move\n",
    "    return best_move\n",
    "\n",
    "# Main game loop\n",
    "def play_game():\n",
    "    board = initialize_board()\n",
    "    print(\"Welcome to Tic-Tac-Toe!\")\n",
    "    print_board(board)\n",
    "\n",
    "    while True:\n",
    "        # Human move\n",
    "        human_move = int(input(\"Enter your move (1-9): \")) - 1\n",
    "        if board[human_move] != EMPTY:\n",
    "            print(\"Invalid move. Try again.\")\n",
    "            continue\n",
    "        board[human_move] = HUMAN\n",
    "        print_board(board)\n",
    "        \n",
    "        if check_winner(board, HUMAN):\n",
    "            print(\"Congratulations! You win!\")\n",
    "            break\n",
    "        if is_draw(board):\n",
    "            print(\"It's a draw!\")\n",
    "            break\n",
    "\n",
    "        # AI move\n",
    "        print(\"AI's turn...\")\n",
    "        ai_best_move = ai_move(board)\n",
    "        board[ai_best_move] = AI\n",
    "        print_board(board)\n",
    "        \n",
    "        if check_winner(board, AI):\n",
    "            print(\"AI wins!\")\n",
    "            break\n",
    "        if is_draw(board):\n",
    "            print(\"It's a draw!\")\n",
    "            break\n",
    "\n",
    "if __name__ == \"__main__\":\n",
    "    play_game()\n"
   ]
  },
  {
   "cell_type": "code",
   "execution_count": null,
   "id": "b719a269-877d-421f-bf28-375af32c788f",
   "metadata": {},
   "outputs": [],
   "source": []
  }
 ],
 "metadata": {
  "kernelspec": {
   "display_name": "Python 3 (ipykernel)",
   "language": "python",
   "name": "python3"
  },
  "language_info": {
   "codemirror_mode": {
    "name": "ipython",
    "version": 3
   },
   "file_extension": ".py",
   "mimetype": "text/x-python",
   "name": "python",
   "nbconvert_exporter": "python",
   "pygments_lexer": "ipython3",
   "version": "3.11.2"
  }
 },
 "nbformat": 4,
 "nbformat_minor": 5
}
