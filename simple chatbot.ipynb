{
 "cells": [
  {
   "cell_type": "code",
   "execution_count": 1,
   "id": "22550e2c-314a-4a52-86c7-8d5b4f26e354",
   "metadata": {},
   "outputs": [
    {
     "name": "stdout",
     "output_type": "stream",
     "text": [
      "Chatbot: Hello! I am your friendly chatbot.\n"
     ]
    },
    {
     "name": "stdin",
     "output_type": "stream",
     "text": [
      "You:  hello\n"
     ]
    },
    {
     "name": "stdout",
     "output_type": "stream",
     "text": [
      "Chatbot: Hello! How can I help you today?\n"
     ]
    },
    {
     "name": "stdin",
     "output_type": "stream",
     "text": [
      "You:  how are you\n"
     ]
    },
    {
     "name": "stdout",
     "output_type": "stream",
     "text": [
      "Chatbot: I'm just a chatbot, but I'm here to help you!\n"
     ]
    },
    {
     "name": "stdin",
     "output_type": "stream",
     "text": [
      "You:  who are you\n"
     ]
    },
    {
     "name": "stdout",
     "output_type": "stream",
     "text": [
      "Chatbot: I'm a simple rule-based chatbot created to assist you.\n"
     ]
    },
    {
     "name": "stdin",
     "output_type": "stream",
     "text": [
      "You:  what can you do\n"
     ]
    },
    {
     "name": "stdout",
     "output_type": "stream",
     "text": [
      "Chatbot: I can respond to simple queries like greetings, asking about my name, and a few other things.\n"
     ]
    },
    {
     "name": "stdin",
     "output_type": "stream",
     "text": [
      "You:  bye\n"
     ]
    },
    {
     "name": "stdout",
     "output_type": "stream",
     "text": [
      "Chatbot: Goodbye! Have a great day!\n"
     ]
    }
   ],
   "source": [
    "# Simple rule-based chatbot\n",
    "\n",
    "def chatbot_response(user_input):\n",
    "    user_input = user_input.lower()  # Convert input to lowercase for easy matching\n",
    "\n",
    "    if \"hello\" in user_input or \"hi\" in user_input:\n",
    "        return \"Hello! How can I help you today?\"\n",
    "\n",
    "    elif \"how are you\" in user_input:\n",
    "        return \"I'm just a chatbot, but I'm here to help you!\"\n",
    "\n",
    "    elif \"what is your name\" in user_input or \"who are you\" in user_input:\n",
    "        return \"I'm a simple rule-based chatbot created to assist you.\"\n",
    "\n",
    "    elif \"what can you do\" in user_input or \"help\" in user_input:\n",
    "        return \"I can respond to simple queries like greetings, asking about my name, and a few other things.\"\n",
    "\n",
    "    elif \"bye\" in user_input or \"goodbye\" in user_input:\n",
    "        return \"Goodbye! Have a great day!\"\n",
    "\n",
    "    else:\n",
    "        return \"I'm sorry, I don't understand that. Can you ask something else?\"\n",
    "\n",
    "# Chatbot interaction\n",
    "print(\"Chatbot: Hello! I am your friendly chatbot.\")\n",
    "while True:\n",
    "    user_input = input(\"You: \")\n",
    "    if \"bye\" in user_input.lower():\n",
    "        print(\"Chatbot:\", chatbot_response(user_input))\n",
    "        break\n",
    "    else:\n",
    "        print(\"Chatbot:\", chatbot_response(user_input))\n"
   ]
  },
  {
   "cell_type": "code",
   "execution_count": null,
   "id": "efc0c9b5-6934-4d40-83dd-aecd86e5f901",
   "metadata": {},
   "outputs": [],
   "source": []
  }
 ],
 "metadata": {
  "kernelspec": {
   "display_name": "Python 3 (ipykernel)",
   "language": "python",
   "name": "python3"
  },
  "language_info": {
   "codemirror_mode": {
    "name": "ipython",
    "version": 3
   },
   "file_extension": ".py",
   "mimetype": "text/x-python",
   "name": "python",
   "nbconvert_exporter": "python",
   "pygments_lexer": "ipython3",
   "version": "3.11.2"
  }
 },
 "nbformat": 4,
 "nbformat_minor": 5
}
