{
 "cells": [
  {
   "cell_type": "code",
   "execution_count": 33,
   "id": "15b0a7d8-2f23-4c1b-b777-e17496820047",
   "metadata": {},
   "outputs": [],
   "source": [
    "#collaborative filtering to suggest items to users based on their preferences\n",
    "\n",
    "import pandas as pd\n",
    "import numpy as np\n",
    "from sklearn.metrics.pairwise import cosine_similarity"
   ]
  },
  {
   "cell_type": "code",
   "execution_count": 34,
   "id": "be1c598b-3741-4239-92d7-2ad6d8fffb86",
   "metadata": {},
   "outputs": [
    {
     "name": "stdout",
     "output_type": "stream",
     "text": [
      "    user_id  item_id  rating\n",
      "0         1      101       5\n",
      "1         1      102       3\n",
      "2         1      103       4\n",
      "3         2      101       4\n",
      "4         2      102       5\n",
      "5         2      104       2\n",
      "6         3      102       4\n",
      "7         3      103       3\n",
      "8         3      104       5\n",
      "9         4      101       3\n",
      "10        4      103       4\n",
      "11        4      104       4\n"
     ]
    }
   ],
   "source": [
    "# Sample dataset\n",
    "\n",
    "data = {\n",
    "    'user_id': [1, 1, 1, 2, 2, 2, 3, 3, 3, 4, 4, 4],\n",
    "    'item_id': [101, 102, 103, 101, 102, 104, 102, 103, 104, 101, 103, 104],\n",
    "    'rating': [5, 3, 4, 4, 5, 2, 4, 3, 5, 3, 4, 4]\n",
    "}\n",
    "\n",
    "df = pd.DataFrame(data)\n",
    "print(df)"
   ]
  },
  {
   "cell_type": "code",
   "execution_count": 35,
   "id": "95044d5c-8a16-4acf-9acd-3e313200a4ed",
   "metadata": {},
   "outputs": [
    {
     "name": "stdout",
     "output_type": "stream",
     "text": [
      "item_id  101  102  103  104\n",
      "user_id                    \n",
      "1        5.0  3.0  4.0  0.0\n",
      "2        4.0  5.0  0.0  2.0\n",
      "3        0.0  4.0  3.0  5.0\n",
      "4        3.0  0.0  4.0  4.0\n"
     ]
    }
   ],
   "source": [
    "# Create user-item matrix\n",
    "\n",
    "user_item_matrix = df.pivot_table(index='user_id', columns='item_id', values='rating').fillna(0)\n",
    "print(user_item_matrix)"
   ]
  },
  {
   "cell_type": "code",
   "execution_count": 36,
   "id": "1fb8a1da-090f-4c7d-9420-507f3455268a",
   "metadata": {},
   "outputs": [
    {
     "name": "stdout",
     "output_type": "stream",
     "text": [
      "user_id         1         2         3         4\n",
      "user_id                                        \n",
      "1        1.000000  0.737865  0.480000  0.684675\n",
      "2        0.737865  1.000000  0.632456  0.465620\n",
      "3        0.480000  0.632456  1.000000  0.706762\n",
      "4        0.684675  0.465620  0.706762  1.000000\n"
     ]
    }
   ],
   "source": [
    "# Calculate cosine similarity between users\n",
    "\n",
    "user_similarity = cosine_similarity(user_item_matrix)\n",
    "user_similarity_df = pd.DataFrame(user_similarity, index=user_item_matrix.index, columns=user_item_matrix.index)\n",
    "print(user_similarity_df)"
   ]
  },
  {
   "cell_type": "code",
   "execution_count": 37,
   "id": "61340a29-43ae-4277-b45b-7a8106bee4c0",
   "metadata": {},
   "outputs": [
    {
     "name": "stdout",
     "output_type": "stream",
     "text": [
      "item_id       101       102       103       104\n",
      "user_id                                        \n",
      "1        3.569673  3.088660  2.940299  2.401368\n",
      "2        3.083141  3.314892  2.245719  2.356248\n",
      "3        2.619490  3.170058  2.866700  3.343752\n",
      "4        2.778383  2.401532  2.978984  2.841101\n"
     ]
    }
   ],
   "source": [
    "#Predict Ratings for Unrated Items\n",
    "\n",
    "def predict_ratings(user_item_matrix, user_similarity):\n",
    "    # Mean rating for each user\n",
    "    mean_user_rating = user_item_matrix.mean(axis=1)\n",
    "    \n",
    "    # Rating difference from the mean for each user\n",
    "    ratings_diff = user_item_matrix - mean_user_rating[:, np.newaxis]\n",
    "    \n",
    "    # Predicting ratings based on similarity\n",
    "    pred = mean_user_rating[:, np.newaxis] + user_similarity.dot(ratings_diff) / np.array([np.abs(user_similarity).sum(axis=1)]).T\n",
    "    return pred\n",
    "\n",
    "# Predict ratings for all items\n",
    "predicted_ratings = predict_ratings(user_item_matrix.values, user_similarity)\n",
    "predicted_ratings_df = pd.DataFrame(predicted_ratings, index=user_item_matrix.index, columns=user_item_matrix.columns)\n",
    "print(predicted_ratings_df)"
   ]
  },
  {
   "cell_type": "code",
   "execution_count": 38,
   "id": "08cc4621-7956-4991-a1da-e834da163fce",
   "metadata": {},
   "outputs": [
    {
     "name": "stdout",
     "output_type": "stream",
     "text": [
      "Recommended Items for User 3:\n",
      "item_id\n",
      "101    2.61949\n",
      "Name: 3, dtype: float64\n"
     ]
    }
   ],
   "source": [
    "#Recommend Items to Users\n",
    "\n",
    "def recommend_items(predicted_ratings_df, user_id, num_recommendations=2):\n",
    "    # Get the user's predicted ratings\n",
    "    user_ratings = predicted_ratings_df.loc[user_id]\n",
    "    \n",
    "    # Sort ratings in descending order\n",
    "    sorted_ratings = user_ratings.sort_values(ascending=False)\n",
    "    \n",
    "    # Filter out items the user has already rated\n",
    "    already_rated = user_item_matrix.loc[user_id][user_item_matrix.loc[user_id] > 0].index\n",
    "    recommendations = sorted_ratings.drop(already_rated).head(num_recommendations)\n",
    "    \n",
    "    return recommendations\n",
    "\n",
    "# Recommend 2 items for user 3\n",
    "recommended_items = recommend_items(predicted_ratings_df, user_id=3, num_recommendations=2)\n",
    "print(\"Recommended Items for User 3:\")\n",
    "print(recommended_items)"
   ]
  }
 ],
 "metadata": {
  "kernelspec": {
   "display_name": "Python 3 (ipykernel)",
   "language": "python",
   "name": "python3"
  },
  "language_info": {
   "codemirror_mode": {
    "name": "ipython",
    "version": 3
   },
   "file_extension": ".py",
   "mimetype": "text/x-python",
   "name": "python",
   "nbconvert_exporter": "python",
   "pygments_lexer": "ipython3",
   "version": "3.11.2"
  }
 },
 "nbformat": 4,
 "nbformat_minor": 5
}
